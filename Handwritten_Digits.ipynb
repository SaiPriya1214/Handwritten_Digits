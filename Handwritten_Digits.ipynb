{
 "cells": [
  {
   "cell_type": "markdown",
   "id": "3c4b7ba1",
   "metadata": {},
   "source": [
    "<div style=\"text-align:center; font-family: Times New Roman, serif;\">\n",
    "<span style=\"color:Orange; font-family: Times New Roman, serif; font-weight: bold;\">\n",
    "<span class=\"cm-header cm-header-1\">\n",
    "Handwritten Digits Recognition </span>\n",
    "</div>"
   ]
  },
  {
   "cell_type": "markdown",
   "id": "b3099e09",
   "metadata": {},
   "source": [
    "##### -   To classify a given image of a handwritten digit into one of the 10 classes representing integer values from 0 to 9.\n"
   ]
  },
  {
   "cell_type": "markdown",
   "id": "01909c61",
   "metadata": {},
   "source": [
    "### Problem Statement"
   ]
  },
  {
   "cell_type": "markdown",
   "id": "1347908a",
   "metadata": {},
   "source": [
    "-  Prepare a complete data analysis report on the given data.\n",
    "-  Classify a given image of a handwritten digit into one of the 10 classes\n",
    "representing integer values from 0 to 9.\n",
    "-  Compare between various models and find the classifier that works\n",
    "better."
   ]
  },
  {
   "cell_type": "markdown",
   "id": "02217ceb",
   "metadata": {},
   "source": [
    "### Dataset"
   ]
  },
  {
   "cell_type": "markdown",
   "id": "011a5aaa",
   "metadata": {},
   "source": [
    "-  About the dataset: The dataset consists of 10 classes of handwritten Images pictures each with a number between 0-9.\n",
    "\n",
    "\n",
    "-  The MNIST dataset is a popular dataset in machine learning and computer vision, and it consists of 70,000 grayscale images of handwritten digits from 0 to 9. Each image is 28x28 pixels in size, and there are 60,000 training images and 10,000 test images."
   ]
  },
  {
   "cell_type": "markdown",
   "id": "c6fcb6ec",
   "metadata": {},
   "source": [
    "### Importing libraries"
   ]
  },
  {
   "cell_type": "code",
   "execution_count": 1,
   "id": "c8a81243",
   "metadata": {},
   "outputs": [
    {
     "name": "stdout",
     "output_type": "stream",
     "text": [
      "Defaulting to user installation because normal site-packages is not writeable\n",
      "Requirement already satisfied: tensorflow in c:\\users\\pgudla\\appdata\\roaming\\python\\python39\\site-packages (2.12.0)\n",
      "Requirement already satisfied: tensorflow-intel==2.12.0 in c:\\users\\pgudla\\appdata\\roaming\\python\\python39\\site-packages (from tensorflow) (2.12.0)\n",
      "Requirement already satisfied: packaging in c:\\programdata\\anaconda3\\lib\\site-packages (from tensorflow-intel==2.12.0->tensorflow) (21.3)\n",
      "Requirement already satisfied: google-pasta>=0.1.1 in c:\\users\\pgudla\\appdata\\roaming\\python\\python39\\site-packages (from tensorflow-intel==2.12.0->tensorflow) (0.2.0)\n",
      "Requirement already satisfied: typing-extensions>=3.6.6 in c:\\programdata\\anaconda3\\lib\\site-packages (from tensorflow-intel==2.12.0->tensorflow) (4.3.0)\n",
      "Requirement already satisfied: astunparse>=1.6.0 in c:\\users\\pgudla\\appdata\\roaming\\python\\python39\\site-packages (from tensorflow-intel==2.12.0->tensorflow) (1.6.3)\n",
      "Requirement already satisfied: jax>=0.3.15 in c:\\users\\pgudla\\appdata\\roaming\\python\\python39\\site-packages (from tensorflow-intel==2.12.0->tensorflow) (0.4.6)\n",
      "Requirement already satisfied: tensorflow-estimator<2.13,>=2.12.0 in c:\\users\\pgudla\\appdata\\roaming\\python\\python39\\site-packages (from tensorflow-intel==2.12.0->tensorflow) (2.12.0)\n",
      "Requirement already satisfied: wrapt<1.15,>=1.11.0 in c:\\programdata\\anaconda3\\lib\\site-packages (from tensorflow-intel==2.12.0->tensorflow) (1.14.1)\n",
      "Requirement already satisfied: gast<=0.4.0,>=0.2.1 in c:\\users\\pgudla\\appdata\\roaming\\python\\python39\\site-packages (from tensorflow-intel==2.12.0->tensorflow) (0.4.0)\n",
      "Requirement already satisfied: tensorflow-io-gcs-filesystem>=0.23.1 in c:\\users\\pgudla\\appdata\\roaming\\python\\python39\\site-packages (from tensorflow-intel==2.12.0->tensorflow) (0.31.0)\n",
      "Requirement already satisfied: h5py>=2.9.0 in c:\\programdata\\anaconda3\\lib\\site-packages (from tensorflow-intel==2.12.0->tensorflow) (3.7.0)\n",
      "Requirement already satisfied: libclang>=13.0.0 in c:\\users\\pgudla\\appdata\\roaming\\python\\python39\\site-packages (from tensorflow-intel==2.12.0->tensorflow) (16.0.0)\n",
      "Requirement already satisfied: keras<2.13,>=2.12.0 in c:\\users\\pgudla\\appdata\\roaming\\python\\python39\\site-packages (from tensorflow-intel==2.12.0->tensorflow) (2.12.0)\n",
      "Requirement already satisfied: numpy<1.24,>=1.22 in c:\\users\\pgudla\\appdata\\roaming\\python\\python39\\site-packages (from tensorflow-intel==2.12.0->tensorflow) (1.23.5)\n",
      "Requirement already satisfied: grpcio<2.0,>=1.24.3 in c:\\users\\pgudla\\appdata\\roaming\\python\\python39\\site-packages (from tensorflow-intel==2.12.0->tensorflow) (1.51.3)\n",
      "Requirement already satisfied: termcolor>=1.1.0 in c:\\users\\pgudla\\appdata\\roaming\\python\\python39\\site-packages (from tensorflow-intel==2.12.0->tensorflow) (2.2.0)\n",
      "Requirement already satisfied: tensorboard<2.13,>=2.12 in c:\\users\\pgudla\\appdata\\roaming\\python\\python39\\site-packages (from tensorflow-intel==2.12.0->tensorflow) (2.12.0)\n",
      "Requirement already satisfied: six>=1.12.0 in c:\\programdata\\anaconda3\\lib\\site-packages (from tensorflow-intel==2.12.0->tensorflow) (1.16.0)\n",
      "Requirement already satisfied: opt-einsum>=2.3.2 in c:\\users\\pgudla\\appdata\\roaming\\python\\python39\\site-packages (from tensorflow-intel==2.12.0->tensorflow) (3.3.0)\n",
      "Requirement already satisfied: absl-py>=1.0.0 in c:\\users\\pgudla\\appdata\\roaming\\python\\python39\\site-packages (from tensorflow-intel==2.12.0->tensorflow) (1.4.0)\n",
      "Requirement already satisfied: protobuf!=4.21.0,!=4.21.1,!=4.21.2,!=4.21.3,!=4.21.4,!=4.21.5,<5.0.0dev,>=3.20.3 in c:\\users\\pgudla\\appdata\\roaming\\python\\python39\\site-packages (from tensorflow-intel==2.12.0->tensorflow) (4.22.1)\n",
      "Requirement already satisfied: setuptools in c:\\programdata\\anaconda3\\lib\\site-packages (from tensorflow-intel==2.12.0->tensorflow) (63.4.1)\n",
      "Requirement already satisfied: flatbuffers>=2.0 in c:\\users\\pgudla\\appdata\\roaming\\python\\python39\\site-packages (from tensorflow-intel==2.12.0->tensorflow) (23.3.3)\n",
      "Requirement already satisfied: wheel<1.0,>=0.23.0 in c:\\programdata\\anaconda3\\lib\\site-packages (from astunparse>=1.6.0->tensorflow-intel==2.12.0->tensorflow) (0.37.1)\n",
      "Requirement already satisfied: scipy>=1.5 in c:\\programdata\\anaconda3\\lib\\site-packages (from jax>=0.3.15->tensorflow-intel==2.12.0->tensorflow) (1.9.1)\n",
      "Requirement already satisfied: markdown>=2.6.8 in c:\\programdata\\anaconda3\\lib\\site-packages (from tensorboard<2.13,>=2.12->tensorflow-intel==2.12.0->tensorflow) (3.3.4)\n",
      "Requirement already satisfied: google-auth<3,>=1.6.3 in c:\\users\\pgudla\\appdata\\roaming\\python\\python39\\site-packages (from tensorboard<2.13,>=2.12->tensorflow-intel==2.12.0->tensorflow) (2.16.3)\n",
      "Requirement already satisfied: requests<3,>=2.21.0 in c:\\programdata\\anaconda3\\lib\\site-packages (from tensorboard<2.13,>=2.12->tensorflow-intel==2.12.0->tensorflow) (2.28.1)\n",
      "Requirement already satisfied: tensorboard-data-server<0.8.0,>=0.7.0 in c:\\users\\pgudla\\appdata\\roaming\\python\\python39\\site-packages (from tensorboard<2.13,>=2.12->tensorflow-intel==2.12.0->tensorflow) (0.7.0)\n",
      "Requirement already satisfied: tensorboard-plugin-wit>=1.6.0 in c:\\users\\pgudla\\appdata\\roaming\\python\\python39\\site-packages (from tensorboard<2.13,>=2.12->tensorflow-intel==2.12.0->tensorflow) (1.8.1)\n",
      "Requirement already satisfied: google-auth-oauthlib<0.5,>=0.4.1 in c:\\users\\pgudla\\appdata\\roaming\\python\\python39\\site-packages (from tensorboard<2.13,>=2.12->tensorflow-intel==2.12.0->tensorflow) (0.4.6)\n",
      "Requirement already satisfied: werkzeug>=1.0.1 in c:\\programdata\\anaconda3\\lib\\site-packages (from tensorboard<2.13,>=2.12->tensorflow-intel==2.12.0->tensorflow) (2.0.3)\n",
      "Requirement already satisfied: pyparsing!=3.0.5,>=2.0.2 in c:\\programdata\\anaconda3\\lib\\site-packages (from packaging->tensorflow-intel==2.12.0->tensorflow) (3.0.9)\n",
      "Requirement already satisfied: rsa<5,>=3.1.4 in c:\\users\\pgudla\\appdata\\roaming\\python\\python39\\site-packages (from google-auth<3,>=1.6.3->tensorboard<2.13,>=2.12->tensorflow-intel==2.12.0->tensorflow) (4.9)\n",
      "Requirement already satisfied: pyasn1-modules>=0.2.1 in c:\\programdata\\anaconda3\\lib\\site-packages (from google-auth<3,>=1.6.3->tensorboard<2.13,>=2.12->tensorflow-intel==2.12.0->tensorflow) (0.2.8)\n",
      "Requirement already satisfied: cachetools<6.0,>=2.0.0 in c:\\users\\pgudla\\appdata\\roaming\\python\\python39\\site-packages (from google-auth<3,>=1.6.3->tensorboard<2.13,>=2.12->tensorflow-intel==2.12.0->tensorflow) (5.3.0)\n",
      "Requirement already satisfied: requests-oauthlib>=0.7.0 in c:\\users\\pgudla\\appdata\\roaming\\python\\python39\\site-packages (from google-auth-oauthlib<0.5,>=0.4.1->tensorboard<2.13,>=2.12->tensorflow-intel==2.12.0->tensorflow) (1.3.1)\n",
      "Requirement already satisfied: certifi>=2017.4.17 in c:\\programdata\\anaconda3\\lib\\site-packages (from requests<3,>=2.21.0->tensorboard<2.13,>=2.12->tensorflow-intel==2.12.0->tensorflow) (2022.9.14)\n",
      "Requirement already satisfied: charset-normalizer<3,>=2 in c:\\programdata\\anaconda3\\lib\\site-packages (from requests<3,>=2.21.0->tensorboard<2.13,>=2.12->tensorflow-intel==2.12.0->tensorflow) (2.0.4)\n",
      "Requirement already satisfied: idna<4,>=2.5 in c:\\programdata\\anaconda3\\lib\\site-packages (from requests<3,>=2.21.0->tensorboard<2.13,>=2.12->tensorflow-intel==2.12.0->tensorflow) (3.3)\n",
      "Requirement already satisfied: urllib3<1.27,>=1.21.1 in c:\\programdata\\anaconda3\\lib\\site-packages (from requests<3,>=2.21.0->tensorboard<2.13,>=2.12->tensorflow-intel==2.12.0->tensorflow) (1.26.11)\n",
      "Requirement already satisfied: pyasn1<0.5.0,>=0.4.6 in c:\\programdata\\anaconda3\\lib\\site-packages (from pyasn1-modules>=0.2.1->google-auth<3,>=1.6.3->tensorboard<2.13,>=2.12->tensorflow-intel==2.12.0->tensorflow) (0.4.8)\n",
      "Requirement already satisfied: oauthlib>=3.0.0 in c:\\users\\pgudla\\appdata\\roaming\\python\\python39\\site-packages (from requests-oauthlib>=0.7.0->google-auth-oauthlib<0.5,>=0.4.1->tensorboard<2.13,>=2.12->tensorflow-intel==2.12.0->tensorflow) (3.2.2)\n"
     ]
    }
   ],
   "source": [
    "!pip install tensorflow"
   ]
  },
  {
   "cell_type": "code",
   "execution_count": 2,
   "id": "bb1790e4",
   "metadata": {},
   "outputs": [],
   "source": [
    "import tensorflow as tf\n",
    "import keras\n",
    "from tensorflow.keras.datasets import mnist\n",
    "\n",
    "from keras.models import Sequential\n",
    "from keras.layers import Dense, Dropout,Flatten\n",
    "from keras.layers import Conv2D, MaxPooling2D\n",
    "import numpy as np\n",
    "import pandas as pd\n",
    "import matplotlib.pyplot as plt\n",
    "import seaborn as sns\n",
    "import warnings\n",
    "warnings.filterwarnings('ignore')\n",
    "from keras.models import load_model \n",
    "from sklearn.model_selection import train_test_split\n",
    "from sklearn.preprocessing import StandardScaler\n",
    "from sklearn.metrics import accuracy_score,classification_report,confusion_matrix\n",
    "\n",
    "from sklearn.neighbors import KNeighborsClassifier\n",
    "from sklearn import svm\n",
    "from sklearn.linear_model import LogisticRegression\n"
   ]
  },
  {
   "cell_type": "markdown",
   "id": "c325b000",
   "metadata": {},
   "source": [
    "### Loading the dataset"
   ]
  },
  {
   "cell_type": "code",
   "execution_count": 3,
   "id": "3d8dbe68",
   "metadata": {},
   "outputs": [],
   "source": [
    "#loading the preshuffled train and test data\n",
    "(x_train,y_train),(x_test,y_test)=mnist.load_data()"
   ]
  },
  {
   "cell_type": "code",
   "execution_count": 4,
   "id": "2889014a",
   "metadata": {},
   "outputs": [
    {
     "name": "stdout",
     "output_type": "stream",
     "text": [
      "Training dataset shape: (60000, 28, 28)\n",
      "Test dataset shape: (10000, 28, 28)\n",
      "(60000, 28, 28) (60000,) (10000, 28, 28) (10000,)\n"
     ]
    }
   ],
   "source": [
    "# Check the shape of the dataset\n",
    "print(\"Training dataset shape:\", x_train.shape)\n",
    "print(\"Test dataset shape:\", x_test.shape)\n",
    "print(x_train.shape,y_train.shape,x_test.shape,y_test.shape)"
   ]
  },
  {
   "cell_type": "markdown",
   "id": "93ae7417",
   "metadata": {},
   "source": [
    "-  We then print out the shape of the training and test datasets to verify that they have been loaded correctly.\n"
   ]
  },
  {
   "cell_type": "markdown",
   "id": "d949de61",
   "metadata": {},
   "source": [
    "## EDA"
   ]
  },
  {
   "cell_type": "markdown",
   "id": "c3f082ce",
   "metadata": {},
   "source": [
    "##### Visualizing some sample images from the dataset\n"
   ]
  },
  {
   "cell_type": "code",
   "execution_count": 5,
   "id": "ac2d2b2b",
   "metadata": {
    "scrolled": true
   },
   "outputs": [
    {
     "data": {
      "image/png": "[encoded data removed]",
      "text/plain": [
       "<Figure size 1000x1000 with 25 Axes>"
      ]
     },
     "metadata": {},
     "output_type": "display_data"
    }
   ],
   "source": [
    "plt.figure(figsize=(10, 10))\n",
    "for i in range(25):\n",
    "    plt.subplot(5, 5, i+1)\n",
    "    plt.imshow(x_train[i], cmap='gray')\n",
    "    plt.title(\"Label: {}\".format(y_train[i]))\n",
    "    plt.axis('off')\n",
    "plt.show()\n"
   ]
  },
  {
   "cell_type": "markdown",
   "id": "52bcbb76",
   "metadata": {},
   "source": [
    "-  we visualized some sample images from the dataset using the imshow() function from matplotlib.\n",
    "-  We also display the label of each image as its title.\n",
    "\n"
   ]
  },
  {
   "cell_type": "code",
   "execution_count": 6,
   "id": "2e13670b",
   "metadata": {},
   "outputs": [
    {
     "data": {
      "image/png": "[encoded data removed]",
      "text/plain": [
       "<Figure size 640x480 with 1 Axes>"
      ]
     },
     "metadata": {},
     "output_type": "display_data"
    }
   ],
   "source": [
    "# Check the distribution of the labels in the training dataset\n",
    "sns.countplot(y_train)\n",
    "plt.title(\"Distribution of labels in training dataset\")\n",
    "plt.show()\n"
   ]
  },
  {
   "cell_type": "markdown",
   "id": "fc98a382",
   "metadata": {},
   "source": [
    "-  We then use the seaborn library to create a countplot of the distribution of labels in the training dataset. This helps us understand how many images we have for each digit.\n",
    "-  its a multiclass classification\n",
    "\n"
   ]
  },
  {
   "cell_type": "code",
   "execution_count": 7,
   "id": "de4a8f81",
   "metadata": {},
   "outputs": [
    {
     "data": {
      "image/png": "[encoded data removed]",
      "text/plain": [
       "<Figure size 1000x500 with 1 Axes>"
      ]
     },
     "metadata": {},
     "output_type": "display_data"
    }
   ],
   "source": [
    "# Check the distribution of pixel intensities in the images\n",
    "plt.figure(figsize=(10, 5))\n",
    "plt.hist(x_train.flatten(), bins=256)\n",
    "plt.title(\"Distribution of pixel intensities in training dataset\")\n",
    "plt.show()\n"
   ]
  },
  {
   "cell_type": "markdown",
   "id": "052a5f47",
   "metadata": {},
   "source": [
    "-  Finally, we create a histogram of the distribution of pixel intensities in the images. This can help us understand the range of values that the pixels can take, and whether there are any outliers or unusual patterns in the data.\n",
    "\n",
    "\n",
    "\n"
   ]
  },
  {
   "cell_type": "markdown",
   "id": "0137ddff",
   "metadata": {},
   "source": [
    "## Data preprocessing"
   ]
  },
  {
   "cell_type": "markdown",
   "id": "7ab78e3b",
   "metadata": {},
   "source": [
    "### Reshaping the dataset"
   ]
  },
  {
   "cell_type": "markdown",
   "id": "f4696441",
   "metadata": {},
   "source": [
    "-  As mentioned earlier, the MNIST dataset contains images represented as a two-dimensional array of 28x28 pixels. To use these images as input for machine learning models, we need to reshape them into a one-dimensional array of 784 (28x28) element"
   ]
  },
  {
   "cell_type": "code",
   "execution_count": 8,
   "id": "6ec64df4",
   "metadata": {},
   "outputs": [],
   "source": [
    "x_train = x_train.reshape((60000,28,28,1))\n",
    "x_test = x_test.reshape((10000,28,28,1))"
   ]
  },
  {
   "cell_type": "markdown",
   "id": "d76d6378",
   "metadata": {},
   "source": [
    "### Normalizing the pixel values"
   ]
  },
  {
   "cell_type": "markdown",
   "id": "8dab4f72",
   "metadata": {},
   "source": [
    "-  The pixel values in the MNIST dataset range from 0 to 255, representing the grayscale intensity of each pixel. To make it easier for the machine learning algorithm to learn from the data, we normalize the pixel values to fall within a range of 0 to 1. This is done by dividing each pixel value by 255.\n"
   ]
  },
  {
   "cell_type": "code",
   "execution_count": 9,
   "id": "6fec8c81",
   "metadata": {},
   "outputs": [],
   "source": [
    "x_train = x_train.astype('float32')/255\n",
    "x_test = x_test.astype('float32')/255\n"
   ]
  },
  {
   "cell_type": "markdown",
   "id": "cd3f33de",
   "metadata": {},
   "source": [
    "### One-hot encoding the labels"
   ]
  },
  {
   "cell_type": "markdown",
   "id": "6fa8c50c",
   "metadata": {},
   "source": [
    "-  The labels in the MNIST dataset are represented as integers from 0 to 9, indicating the digit that each image represents. However, machine learning algorithms typically require labels to be in a one-hot encoded format, which means that each label is represented as a binary vector of length 10, where the index corresponding to the digit is set to 1 and all other indices are set to 0.\n",
    "\n"
   ]
  },
  {
   "cell_type": "code",
   "execution_count": 10,
   "id": "75c07bf9",
   "metadata": {},
   "outputs": [],
   "source": [
    "from keras.utils import to_categorical\n",
    "\n",
    "y_train = to_categorical(y_train)\n",
    "y_test = to_categorical(y_test)\n"
   ]
  },
  {
   "cell_type": "code",
   "execution_count": 11,
   "id": "1b844726",
   "metadata": {},
   "outputs": [
    {
     "name": "stdout",
     "output_type": "stream",
     "text": [
      "x_train (60000, 28, 28, 1)\n",
      "60000 Train Sample\n",
      "10000 Test Sample\n"
     ]
    }
   ],
   "source": [
    "print('x_train', x_train.shape)\n",
    "print(x_train.shape[0],'Train Sample')\n",
    "print(x_test.shape[0],'Test Sample')\n"
   ]
  },
  {
   "cell_type": "markdown",
   "id": "42d1823a",
   "metadata": {},
   "source": [
    "### breaking training set into training and validation sets\n"
   ]
  },
  {
   "cell_type": "code",
   "execution_count": 12,
   "id": "9ba4a9a8",
   "metadata": {},
   "outputs": [],
   "source": [
    "(x_train, x_valid) = x_train[5000:], x_train[:5000]\n",
    "(y_train, y_valid) = y_train[5000:], y_train[:5000]\n"
   ]
  },
  {
   "cell_type": "code",
   "execution_count": 13,
   "id": "e41f4958",
   "metadata": {},
   "outputs": [
    {
     "name": "stdout",
     "output_type": "stream",
     "text": [
      "x_train shape: (55000, 28, 28, 1)\n",
      "55000 train samples\n",
      "10000 test samples\n",
      "5000 validation samples\n"
     ]
    }
   ],
   "source": [
    "# print shape of training set\n",
    "print('x_train shape:', x_train.shape)\n",
    "# the 3 is referring to colored image\n",
    "# print number of training, validation, and test images\n",
    "print(x_train.shape[0], 'train samples')\n",
    "print(x_test.shape[0], 'test samples')\n",
    "print(x_valid.shape[0], 'validation samples')"
   ]
  },
  {
   "cell_type": "markdown",
   "id": "3827e5fe",
   "metadata": {},
   "source": [
    "### Defining CNN Model Architechture "
   ]
  },
  {
   "cell_type": "code",
   "execution_count": 14,
   "id": "4aee3bb2",
   "metadata": {},
   "outputs": [
    {
     "name": "stdout",
     "output_type": "stream",
     "text": [
      "Model: \"sequential\"\n",
      "_________________________________________________________________\n",
      " Layer (type)                Output Shape              Param #   \n",
      "=================================================================\n",
      " conv2d (Conv2D)             (None, 28, 28, 64)        640       \n",
      "                                                                 \n",
      " max_pooling2d (MaxPooling2D  (None, 14, 14, 64)       0         \n",
      " )                                                               \n",
      "                                                                 \n",
      " conv2d_1 (Conv2D)           (None, 14, 14, 64)        36928     \n",
      "                                                                 \n",
      " max_pooling2d_1 (MaxPooling  (None, 7, 7, 64)         0         \n",
      " 2D)                                                             \n",
      "                                                                 \n",
      " conv2d_2 (Conv2D)           (None, 7, 7, 128)         73856     \n",
      "                                                                 \n",
      " max_pooling2d_2 (MaxPooling  (None, 3, 3, 128)        0         \n",
      " 2D)                                                             \n",
      "                                                                 \n",
      " dropout (Dropout)           (None, 3, 3, 128)         0         \n",
      "                                                                 \n",
      " conv2d_3 (Conv2D)           (None, 3, 3, 192)         221376    \n",
      "                                                                 \n",
      " max_pooling2d_3 (MaxPooling  (None, 1, 1, 192)        0         \n",
      " 2D)                                                             \n",
      "                                                                 \n",
      " dropout_1 (Dropout)         (None, 1, 1, 192)         0         \n",
      "                                                                 \n",
      " flatten (Flatten)           (None, 192)               0         \n",
      "                                                                 \n",
      " dense (Dense)               (None, 264)               50952     \n",
      "                                                                 \n",
      " dense_1 (Dense)             (None, 10)                2650      \n",
      "                                                                 \n",
      "=================================================================\n",
      "Total params: 386,402\n",
      "Trainable params: 386,402\n",
      "Non-trainable params: 0\n",
      "_________________________________________________________________\n"
     ]
    }
   ],
   "source": [
    "from keras import layers\n",
    "from keras import models\n",
    "\n",
    "model = models.Sequential()\n",
    "model.add(layers.Conv2D(64,(3,3),padding='same', activation='relu', input_shape = (28,28,1)))\n",
    "model.add(layers.MaxPooling2D((2,2)))\n",
    "model.add(layers.Conv2D(64,(3,3),padding='same', activation='relu'))\n",
    "model.add(layers.MaxPooling2D((2,2)))\n",
    "model.add(Conv2D(filters=128, kernel_size=3, padding='same', activation='relu'))\n",
    "model.add(layers.MaxPooling2D((2,2)))\n",
    "model.add(Dropout(0.3))\n",
    "\n",
    "model.add(layers.Conv2D(192,(3,3),padding='same', activation='relu'))\n",
    "model.add(layers.MaxPooling2D((2,2)))\n",
    "model.add(Dropout(0.3))\n",
    "\n",
    "model.add(layers.Flatten())\n",
    "model.add(layers.Dense(264,activation = 'relu'))\n",
    "model.add(layers.Dense(10, activation= 'softmax'))\n",
    "\n",
    "model.summary()\n"
   ]
  },
  {
   "cell_type": "code",
   "execution_count": 15,
   "id": "98f51658",
   "metadata": {},
   "outputs": [],
   "source": [
    "from keras.optimizers import Adadelta, RMSprop, Adam\n",
    "from keras.losses import categorical_crossentropy\n",
    "from sklearn.metrics import confusion_matrix, accuracy_score, f1_score, recall_score, precision_score\n"
   ]
  },
  {
   "cell_type": "code",
   "execution_count": 16,
   "id": "31786fbe",
   "metadata": {},
   "outputs": [],
   "source": [
    "# compile the model\n",
    "model.compile(loss= 'categorical_crossentropy',optimizer='adam',metrics=['accuracy'])"
   ]
  },
  {
   "cell_type": "code",
   "execution_count": 17,
   "id": "55678148",
   "metadata": {},
   "outputs": [
    {
     "name": "stdout",
     "output_type": "stream",
     "text": [
      "Epoch 1/100\n",
      "430/430 [==============================] - 40s 91ms/step - loss: 0.2936 - accuracy: 0.9042 - val_loss: 0.0615 - val_accuracy: 0.9798\n",
      "Epoch 2/100\n",
      "430/430 [==============================] - 39s 90ms/step - loss: 0.0718 - accuracy: 0.9772 - val_loss: 0.0417 - val_accuracy: 0.9886\n",
      "Epoch 3/100\n",
      "430/430 [==============================] - 39s 90ms/step - loss: 0.0517 - accuracy: 0.9840 - val_loss: 0.0389 - val_accuracy: 0.9900\n",
      "Epoch 4/100\n",
      "430/430 [==============================] - 39s 90ms/step - loss: 0.0418 - accuracy: 0.9870 - val_loss: 0.0399 - val_accuracy: 0.9894\n",
      "Epoch 5/100\n",
      "430/430 [==============================] - 39s 91ms/step - loss: 0.0363 - accuracy: 0.9885 - val_loss: 0.0307 - val_accuracy: 0.9914\n",
      "Epoch 6/100\n",
      "430/430 [==============================] - 39s 91ms/step - loss: 0.0307 - accuracy: 0.9908 - val_loss: 0.0259 - val_accuracy: 0.9930\n",
      "Epoch 7/100\n",
      "430/430 [==============================] - 39s 91ms/step - loss: 0.0275 - accuracy: 0.9915 - val_loss: 0.0318 - val_accuracy: 0.9908\n",
      "Epoch 8/100\n",
      "430/430 [==============================] - 39s 90ms/step - loss: 0.0256 - accuracy: 0.9920 - val_loss: 0.0276 - val_accuracy: 0.9928\n",
      "Epoch 9/100\n",
      "430/430 [==============================] - 39s 91ms/step - loss: 0.0220 - accuracy: 0.9931 - val_loss: 0.0289 - val_accuracy: 0.9918\n",
      "Epoch 10/100\n",
      "430/430 [==============================] - 39s 90ms/step - loss: 0.0211 - accuracy: 0.9937 - val_loss: 0.0301 - val_accuracy: 0.9926\n",
      "Epoch 11/100\n",
      "430/430 [==============================] - 39s 91ms/step - loss: 0.0185 - accuracy: 0.9942 - val_loss: 0.0298 - val_accuracy: 0.9930\n",
      "Epoch 12/100\n",
      "430/430 [==============================] - 39s 90ms/step - loss: 0.0161 - accuracy: 0.9948 - val_loss: 0.0295 - val_accuracy: 0.9930\n",
      "Epoch 13/100\n",
      "430/430 [==============================] - 39s 91ms/step - loss: 0.0166 - accuracy: 0.9945 - val_loss: 0.0234 - val_accuracy: 0.9938\n",
      "Epoch 14/100\n",
      "430/430 [==============================] - 39s 90ms/step - loss: 0.0164 - accuracy: 0.9949 - val_loss: 0.0215 - val_accuracy: 0.9942\n",
      "Epoch 15/100\n",
      "430/430 [==============================] - 38s 89ms/step - loss: 0.0143 - accuracy: 0.9955 - val_loss: 0.0271 - val_accuracy: 0.9936\n",
      "Epoch 16/100\n",
      "430/430 [==============================] - 39s 90ms/step - loss: 0.0143 - accuracy: 0.9954 - val_loss: 0.0259 - val_accuracy: 0.9938\n",
      "Epoch 17/100\n",
      "430/430 [==============================] - 39s 90ms/step - loss: 0.0130 - accuracy: 0.9958 - val_loss: 0.0229 - val_accuracy: 0.9946\n",
      "Epoch 18/100\n",
      "430/430 [==============================] - 39s 91ms/step - loss: 0.0101 - accuracy: 0.9969 - val_loss: 0.0271 - val_accuracy: 0.9938\n",
      "Epoch 19/100\n",
      "430/430 [==============================] - 40s 92ms/step - loss: 0.0120 - accuracy: 0.9961 - val_loss: 0.0281 - val_accuracy: 0.9938\n",
      "Epoch 20/100\n",
      "430/430 [==============================] - 39s 90ms/step - loss: 0.0124 - accuracy: 0.9962 - val_loss: 0.0299 - val_accuracy: 0.9940\n",
      "Epoch 21/100\n",
      "430/430 [==============================] - 39s 90ms/step - loss: 0.0091 - accuracy: 0.9972 - val_loss: 0.0273 - val_accuracy: 0.9942\n",
      "Epoch 22/100\n",
      "430/430 [==============================] - 40s 93ms/step - loss: 0.0106 - accuracy: 0.9966 - val_loss: 0.0312 - val_accuracy: 0.9932\n",
      "Epoch 23/100\n",
      "430/430 [==============================] - 40s 92ms/step - loss: 0.0089 - accuracy: 0.9974 - val_loss: 0.0299 - val_accuracy: 0.9938\n",
      "Epoch 24/100\n",
      "430/430 [==============================] - 40s 93ms/step - loss: 0.0106 - accuracy: 0.9966 - val_loss: 0.0278 - val_accuracy: 0.9936\n",
      "Epoch 25/100\n",
      "430/430 [==============================] - 40s 93ms/step - loss: 0.0089 - accuracy: 0.9970 - val_loss: 0.0355 - val_accuracy: 0.9920\n",
      "Epoch 26/100\n",
      "430/430 [==============================] - 40s 93ms/step - loss: 0.0090 - accuracy: 0.9971 - val_loss: 0.0232 - val_accuracy: 0.9944\n",
      "Epoch 27/100\n",
      "430/430 [==============================] - 40s 93ms/step - loss: 0.0112 - accuracy: 0.9964 - val_loss: 0.0302 - val_accuracy: 0.9942\n",
      "Epoch 28/100\n",
      "430/430 [==============================] - 40s 93ms/step - loss: 0.0076 - accuracy: 0.9974 - val_loss: 0.0270 - val_accuracy: 0.9950\n",
      "Epoch 29/100\n",
      "430/430 [==============================] - 40s 93ms/step - loss: 0.0067 - accuracy: 0.9977 - val_loss: 0.0298 - val_accuracy: 0.9938\n",
      "Epoch 30/100\n",
      "430/430 [==============================] - 41s 94ms/step - loss: 0.0060 - accuracy: 0.9980 - val_loss: 0.0355 - val_accuracy: 0.9948\n",
      "Epoch 31/100\n",
      "430/430 [==============================] - 40s 93ms/step - loss: 0.0088 - accuracy: 0.9973 - val_loss: 0.0288 - val_accuracy: 0.9942\n",
      "Epoch 32/100\n",
      "430/430 [==============================] - 41s 95ms/step - loss: 0.0077 - accuracy: 0.9979 - val_loss: 0.0317 - val_accuracy: 0.9940\n",
      "Epoch 33/100\n",
      "430/430 [==============================] - 40s 94ms/step - loss: 0.0079 - accuracy: 0.9976 - val_loss: 0.0331 - val_accuracy: 0.9938\n",
      "Epoch 34/100\n",
      "430/430 [==============================] - 40s 94ms/step - loss: 0.0072 - accuracy: 0.9979 - val_loss: 0.0355 - val_accuracy: 0.9942\n",
      "Epoch 35/100\n",
      "430/430 [==============================] - 40s 94ms/step - loss: 0.0072 - accuracy: 0.9976 - val_loss: 0.0288 - val_accuracy: 0.9940\n",
      "Epoch 36/100\n",
      "430/430 [==============================] - 40s 92ms/step - loss: 0.0051 - accuracy: 0.9983 - val_loss: 0.0397 - val_accuracy: 0.9942\n",
      "Epoch 37/100\n",
      "430/430 [==============================] - 39s 90ms/step - loss: 0.0077 - accuracy: 0.9976 - val_loss: 0.0420 - val_accuracy: 0.9936\n",
      "Epoch 38/100\n",
      "430/430 [==============================] - 39s 90ms/step - loss: 0.0066 - accuracy: 0.9979 - val_loss: 0.0355 - val_accuracy: 0.9936\n",
      "Epoch 39/100\n",
      "430/430 [==============================] - 39s 90ms/step - loss: 0.0057 - accuracy: 0.9982 - val_loss: 0.0531 - val_accuracy: 0.9936\n",
      "Epoch 40/100\n",
      "430/430 [==============================] - 39s 91ms/step - loss: 0.0071 - accuracy: 0.9980 - val_loss: 0.0366 - val_accuracy: 0.9936\n",
      "Epoch 41/100\n",
      "430/430 [==============================] - 39s 91ms/step - loss: 0.0063 - accuracy: 0.9981 - val_loss: 0.0457 - val_accuracy: 0.9928\n",
      "Epoch 42/100\n",
      "430/430 [==============================] - 39s 90ms/step - loss: 0.0053 - accuracy: 0.9983 - val_loss: 0.0496 - val_accuracy: 0.9942\n",
      "Epoch 43/100\n",
      "430/430 [==============================] - 39s 91ms/step - loss: 0.0061 - accuracy: 0.9982 - val_loss: 0.0393 - val_accuracy: 0.9938\n",
      "Epoch 44/100\n",
      "430/430 [==============================] - 39s 90ms/step - loss: 0.0079 - accuracy: 0.9979 - val_loss: 0.0375 - val_accuracy: 0.9932\n",
      "Epoch 45/100\n",
      "430/430 [==============================] - 39s 90ms/step - loss: 0.0060 - accuracy: 0.9983 - val_loss: 0.0428 - val_accuracy: 0.9932\n",
      "Epoch 46/100\n",
      "430/430 [==============================] - 39s 91ms/step - loss: 0.0052 - accuracy: 0.9985 - val_loss: 0.0397 - val_accuracy: 0.9938\n",
      "Epoch 47/100\n",
      "430/430 [==============================] - 39s 91ms/step - loss: 0.0049 - accuracy: 0.9987 - val_loss: 0.0371 - val_accuracy: 0.9942\n",
      "Epoch 48/100\n",
      "430/430 [==============================] - 39s 90ms/step - loss: 0.0055 - accuracy: 0.9984 - val_loss: 0.0322 - val_accuracy: 0.9934\n",
      "Epoch 49/100\n",
      "430/430 [==============================] - 39s 91ms/step - loss: 0.0037 - accuracy: 0.9989 - val_loss: 0.0357 - val_accuracy: 0.9942\n",
      "Epoch 50/100\n",
      "430/430 [==============================] - 39s 92ms/step - loss: 0.0066 - accuracy: 0.9982 - val_loss: 0.0340 - val_accuracy: 0.9950\n",
      "Epoch 51/100\n",
      "430/430 [==============================] - 39s 91ms/step - loss: 0.0042 - accuracy: 0.9988 - val_loss: 0.0399 - val_accuracy: 0.9944\n",
      "Epoch 52/100\n",
      "430/430 [==============================] - 39s 90ms/step - loss: 0.0052 - accuracy: 0.9984 - val_loss: 0.0291 - val_accuracy: 0.9944\n",
      "Epoch 53/100\n",
      "430/430 [==============================] - 39s 90ms/step - loss: 0.0067 - accuracy: 0.9979 - val_loss: 0.0383 - val_accuracy: 0.9940\n",
      "Epoch 54/100\n",
      "430/430 [==============================] - 39s 90ms/step - loss: 0.0072 - accuracy: 0.9979 - val_loss: 0.0376 - val_accuracy: 0.9950\n",
      "Epoch 55/100\n",
      "430/430 [==============================] - 39s 90ms/step - loss: 0.0034 - accuracy: 0.9989 - val_loss: 0.0372 - val_accuracy: 0.9956\n",
      "Epoch 56/100\n",
      "430/430 [==============================] - 39s 90ms/step - loss: 0.0055 - accuracy: 0.9986 - val_loss: 0.0400 - val_accuracy: 0.9944\n",
      "Epoch 57/100\n",
      "430/430 [==============================] - 39s 90ms/step - loss: 0.0054 - accuracy: 0.9985 - val_loss: 0.0435 - val_accuracy: 0.9936\n",
      "Epoch 58/100\n",
      "430/430 [==============================] - 39s 90ms/step - loss: 0.0051 - accuracy: 0.9985 - val_loss: 0.0364 - val_accuracy: 0.9930\n",
      "Epoch 59/100\n",
      "430/430 [==============================] - 39s 91ms/step - loss: 0.0049 - accuracy: 0.9985 - val_loss: 0.0315 - val_accuracy: 0.9954\n",
      "Epoch 60/100\n",
      "430/430 [==============================] - 38s 89ms/step - loss: 0.0040 - accuracy: 0.9987 - val_loss: 0.0433 - val_accuracy: 0.9952\n",
      "Epoch 61/100\n",
      "430/430 [==============================] - 39s 90ms/step - loss: 0.0050 - accuracy: 0.9987 - val_loss: 0.0312 - val_accuracy: 0.9942\n",
      "Epoch 62/100\n",
      "430/430 [==============================] - 39s 91ms/step - loss: 0.0047 - accuracy: 0.9985 - val_loss: 0.0362 - val_accuracy: 0.9942\n",
      "Epoch 63/100\n",
      "430/430 [==============================] - 39s 90ms/step - loss: 0.0046 - accuracy: 0.9987 - val_loss: 0.0393 - val_accuracy: 0.9950\n",
      "Epoch 64/100\n",
      "430/430 [==============================] - 39s 91ms/step - loss: 0.0047 - accuracy: 0.9986 - val_loss: 0.0370 - val_accuracy: 0.9952\n",
      "Epoch 65/100\n",
      "430/430 [==============================] - 39s 91ms/step - loss: 0.0031 - accuracy: 0.9992 - val_loss: 0.0382 - val_accuracy: 0.9932\n",
      "Epoch 66/100\n",
      "430/430 [==============================] - 39s 90ms/step - loss: 0.0050 - accuracy: 0.9986 - val_loss: 0.0372 - val_accuracy: 0.9940\n",
      "Epoch 67/100\n",
      "430/430 [==============================] - 39s 90ms/step - loss: 0.0058 - accuracy: 0.9985 - val_loss: 0.0323 - val_accuracy: 0.9946\n",
      "Epoch 68/100\n",
      "430/430 [==============================] - 39s 91ms/step - loss: 0.0044 - accuracy: 0.9988 - val_loss: 0.0358 - val_accuracy: 0.9936\n",
      "Epoch 69/100\n",
      "430/430 [==============================] - 39s 91ms/step - loss: 0.0049 - accuracy: 0.9984 - val_loss: 0.0398 - val_accuracy: 0.9934\n",
      "Epoch 70/100\n",
      "430/430 [==============================] - 39s 90ms/step - loss: 0.0038 - accuracy: 0.9988 - val_loss: 0.0386 - val_accuracy: 0.9946\n",
      "Epoch 71/100\n",
      "430/430 [==============================] - 39s 90ms/step - loss: 0.0058 - accuracy: 0.9982 - val_loss: 0.0418 - val_accuracy: 0.9942\n",
      "Epoch 72/100\n",
      "430/430 [==============================] - 39s 90ms/step - loss: 0.0041 - accuracy: 0.9989 - val_loss: 0.0460 - val_accuracy: 0.9936\n",
      "Epoch 73/100\n",
      "430/430 [==============================] - 39s 90ms/step - loss: 0.0041 - accuracy: 0.9989 - val_loss: 0.0367 - val_accuracy: 0.9950\n",
      "Epoch 74/100\n",
      "430/430 [==============================] - 39s 90ms/step - loss: 0.0044 - accuracy: 0.9989 - val_loss: 0.0453 - val_accuracy: 0.9936\n",
      "Epoch 75/100\n",
      "430/430 [==============================] - 39s 90ms/step - loss: 0.0041 - accuracy: 0.9989 - val_loss: 0.0365 - val_accuracy: 0.9944\n",
      "Epoch 76/100\n",
      "430/430 [==============================] - 40s 93ms/step - loss: 0.0042 - accuracy: 0.9988 - val_loss: 0.0377 - val_accuracy: 0.9936\n",
      "Epoch 77/100\n",
      "430/430 [==============================] - 39s 90ms/step - loss: 0.0056 - accuracy: 0.9984 - val_loss: 0.0436 - val_accuracy: 0.9936\n",
      "Epoch 78/100\n",
      "430/430 [==============================] - 39s 90ms/step - loss: 0.0042 - accuracy: 0.9989 - val_loss: 0.0348 - val_accuracy: 0.9944\n",
      "Epoch 79/100\n",
      "430/430 [==============================] - 39s 90ms/step - loss: 0.0023 - accuracy: 0.9994 - val_loss: 0.0414 - val_accuracy: 0.9940\n",
      "Epoch 80/100\n",
      "430/430 [==============================] - 39s 90ms/step - loss: 0.0052 - accuracy: 0.9986 - val_loss: 0.0390 - val_accuracy: 0.9942\n",
      "Epoch 81/100\n",
      "430/430 [==============================] - 39s 90ms/step - loss: 0.0043 - accuracy: 0.9990 - val_loss: 0.0481 - val_accuracy: 0.9940\n",
      "Epoch 82/100\n",
      "430/430 [==============================] - 39s 90ms/step - loss: 0.0034 - accuracy: 0.9992 - val_loss: 0.0477 - val_accuracy: 0.9948\n",
      "Epoch 83/100\n",
      "430/430 [==============================] - 39s 90ms/step - loss: 0.0041 - accuracy: 0.9988 - val_loss: 0.0391 - val_accuracy: 0.9952\n",
      "Epoch 84/100\n",
      "430/430 [==============================] - 39s 91ms/step - loss: 0.0052 - accuracy: 0.9985 - val_loss: 0.0392 - val_accuracy: 0.9948\n",
      "Epoch 85/100\n",
      "430/430 [==============================] - 39s 92ms/step - loss: 0.0042 - accuracy: 0.9989 - val_loss: 0.0476 - val_accuracy: 0.9940\n",
      "Epoch 86/100\n",
      "430/430 [==============================] - 39s 90ms/step - loss: 0.0042 - accuracy: 0.9988 - val_loss: 0.0365 - val_accuracy: 0.9944\n",
      "Epoch 87/100\n",
      "430/430 [==============================] - 39s 90ms/step - loss: 0.0033 - accuracy: 0.9990 - val_loss: 0.0511 - val_accuracy: 0.9942\n",
      "Epoch 88/100\n",
      "430/430 [==============================] - 39s 90ms/step - loss: 0.0037 - accuracy: 0.9990 - val_loss: 0.0390 - val_accuracy: 0.9946\n",
      "Epoch 89/100\n",
      "430/430 [==============================] - 39s 90ms/step - loss: 0.0045 - accuracy: 0.9987 - val_loss: 0.0413 - val_accuracy: 0.9940\n",
      "Epoch 90/100\n",
      "430/430 [==============================] - 39s 90ms/step - loss: 0.0030 - accuracy: 0.9992 - val_loss: 0.0556 - val_accuracy: 0.9940\n",
      "Epoch 91/100\n",
      "430/430 [==============================] - 39s 90ms/step - loss: 0.0054 - accuracy: 0.9985 - val_loss: 0.0405 - val_accuracy: 0.9948\n",
      "Epoch 92/100\n",
      "430/430 [==============================] - 39s 90ms/step - loss: 0.0025 - accuracy: 0.9993 - val_loss: 0.0641 - val_accuracy: 0.9940\n",
      "Epoch 93/100\n",
      "430/430 [==============================] - 40s 92ms/step - loss: 0.0049 - accuracy: 0.9987 - val_loss: 0.0500 - val_accuracy: 0.9934\n",
      "Epoch 94/100\n",
      "430/430 [==============================] - 39s 91ms/step - loss: 0.0038 - accuracy: 0.9991 - val_loss: 0.0503 - val_accuracy: 0.9940\n",
      "Epoch 95/100\n",
      "430/430 [==============================] - 39s 90ms/step - loss: 0.0043 - accuracy: 0.9989 - val_loss: 0.0305 - val_accuracy: 0.9942\n",
      "Epoch 96/100\n",
      "430/430 [==============================] - 39s 91ms/step - loss: 0.0036 - accuracy: 0.9991 - val_loss: 0.0445 - val_accuracy: 0.9952\n",
      "Epoch 97/100\n",
      "430/430 [==============================] - 39s 91ms/step - loss: 0.0046 - accuracy: 0.9987 - val_loss: 0.0532 - val_accuracy: 0.9932\n",
      "Epoch 98/100\n",
      "430/430 [==============================] - 39s 90ms/step - loss: 0.0027 - accuracy: 0.9993 - val_loss: 0.0473 - val_accuracy: 0.9942\n",
      "Epoch 99/100\n",
      "430/430 [==============================] - 41s 95ms/step - loss: 0.0037 - accuracy: 0.9989 - val_loss: 0.0479 - val_accuracy: 0.9948\n",
      "Epoch 100/100\n",
      "430/430 [==============================] - 40s 92ms/step - loss: 0.0055 - accuracy: 0.9987 - val_loss: 0.0443 - val_accuracy: 0.9944\n"
     ]
    }
   ],
   "source": [
    "# Model training\n",
    "\n",
    "history=model.fit(x_train,y_train , batch_size=128,epochs=100,validation_data=(x_valid, y_valid),verbose=1, shuffle=True)\n"
   ]
  },
  {
   "cell_type": "code",
   "execution_count": 18,
   "id": "ddb8c0ed",
   "metadata": {
    "scrolled": true
   },
   "outputs": [
    {
     "data": {
      "text/plain": [
       "[0.904236376285553,\n",
       " 0.9772363901138306,\n",
       " 0.9839636087417603,\n",
       " 0.9869999885559082,\n",
       " 0.9885272979736328,\n",
       " 0.9907636642456055,\n",
       " 0.991454541683197,\n",
       " 0.9920363426208496,\n",
       " 0.9930545687675476,\n",
       " 0.9937090873718262,\n",
       " 0.9941818118095398,\n",
       " 0.9947999715805054,\n",
       " 0.994527280330658,\n",
       " 0.9949454665184021,\n",
       " 0.9955454468727112,\n",
       " 0.9954363703727722,\n",
       " 0.9957636594772339,\n",
       " 0.9968545436859131,\n",
       " 0.9960908889770508,\n",
       " 0.9962363839149475,\n",
       " 0.9972000122070312,\n",
       " 0.9966182112693787,\n",
       " 0.9973999857902527,\n",
       " 0.9965636134147644,\n",
       " 0.996999979019165,\n",
       " 0.9971091151237488,\n",
       " 0.996436357498169,\n",
       " 0.9974363446235657,\n",
       " 0.9977090954780579,\n",
       " 0.998018205165863,\n",
       " 0.9972545504570007,\n",
       " 0.9979090690612793,\n",
       " 0.9975636601448059,\n",
       " 0.9978908896446228,\n",
       " 0.9976363778114319,\n",
       " 0.9983454346656799,\n",
       " 0.9976363778114319,\n",
       " 0.9979272484779358,\n",
       " 0.9981818199157715,\n",
       " 0.99798184633255,\n",
       " 0.998054563999176,\n",
       " 0.9982908964157104,\n",
       " 0.9982181787490845,\n",
       " 0.9978908896446228,\n",
       " 0.9983454346656799,\n",
       " 0.9984545707702637,\n",
       " 0.9986909031867981,\n",
       " 0.9984181523323059,\n",
       " 0.9988909363746643,\n",
       " 0.9981818199157715,\n",
       " 0.99883633852005,\n",
       " 0.9984181523323059,\n",
       " 0.9978908896446228,\n",
       " 0.9978545308113098,\n",
       " 0.9989454746246338,\n",
       " 0.9986000061035156,\n",
       " 0.9984545707702637,\n",
       " 0.9985454678535461,\n",
       " 0.9985272884368896,\n",
       " 0.9987090826034546,\n",
       " 0.9987272620201111,\n",
       " 0.9985091090202332,\n",
       " 0.9986909031867981,\n",
       " 0.9986363649368286,\n",
       " 0.9992363452911377,\n",
       " 0.9986181855201721,\n",
       " 0.9985454678535461,\n",
       " 0.9988181591033936,\n",
       " 0.9984181523323059,\n",
       " 0.99883633852005,\n",
       " 0.998236358165741,\n",
       " 0.9989454746246338,\n",
       " 0.9989091157913208,\n",
       " 0.9988545179367065,\n",
       " 0.9988727569580078,\n",
       " 0.9987636208534241,\n",
       " 0.9983999729156494,\n",
       " 0.9989454746246338,\n",
       " 0.9994000196456909,\n",
       " 0.9986181855201721,\n",
       " 0.9989636540412903,\n",
       " 0.9991999864578247,\n",
       " 0.99883633852005,\n",
       " 0.9985454678535461,\n",
       " 0.9988909363746643,\n",
       " 0.9988181591033936,\n",
       " 0.9989818334579468,\n",
       " 0.9990181922912598,\n",
       " 0.9987090826034546,\n",
       " 0.9991818070411682,\n",
       " 0.9985454678535461,\n",
       " 0.9992545247077942,\n",
       " 0.9987090826034546,\n",
       " 0.9991090893745422,\n",
       " 0.9989454746246338,\n",
       " 0.9990727305412292,\n",
       " 0.9986545443534851,\n",
       " 0.9992727041244507,\n",
       " 0.9989091157913208,\n",
       " 0.9986909031867981]"
      ]
     },
     "execution_count": 18,
     "metadata": {},
     "output_type": "execute_result"
    }
   ],
   "source": [
    "accuracy = history.history['accuracy']\n",
    "accuracy"
   ]
  },
  {
   "cell_type": "code",
   "execution_count": 19,
   "id": "216433c1",
   "metadata": {
    "collapsed": true
   },
   "outputs": [
    {
     "data": {
      "text/plain": [
       "[0.9797999858856201,\n",
       " 0.9886000156402588,\n",
       " 0.9900000095367432,\n",
       " 0.9894000291824341,\n",
       " 0.9914000034332275,\n",
       " 0.9929999709129333,\n",
       " 0.9908000230789185,\n",
       " 0.9927999973297119,\n",
       " 0.9918000102043152,\n",
       " 0.9926000237464905,\n",
       " 0.9929999709129333,\n",
       " 0.9929999709129333,\n",
       " 0.9937999844551086,\n",
       " 0.9941999912261963,\n",
       " 0.9936000108718872,\n",
       " 0.9937999844551086,\n",
       " 0.9945999979972839,\n",
       " 0.9937999844551086,\n",
       " 0.9937999844551086,\n",
       " 0.9940000176429749,\n",
       " 0.9941999912261963,\n",
       " 0.9932000041007996,\n",
       " 0.9937999844551086,\n",
       " 0.9936000108718872,\n",
       " 0.9919999837875366,\n",
       " 0.9944000244140625,\n",
       " 0.9941999912261963,\n",
       " 0.9950000047683716,\n",
       " 0.9937999844551086,\n",
       " 0.9947999715805054,\n",
       " 0.9941999912261963,\n",
       " 0.9940000176429749,\n",
       " 0.9937999844551086,\n",
       " 0.9941999912261963,\n",
       " 0.9940000176429749,\n",
       " 0.9941999912261963,\n",
       " 0.9936000108718872,\n",
       " 0.9936000108718872,\n",
       " 0.9936000108718872,\n",
       " 0.9936000108718872,\n",
       " 0.9927999973297119,\n",
       " 0.9941999912261963,\n",
       " 0.9937999844551086,\n",
       " 0.9932000041007996,\n",
       " 0.9932000041007996,\n",
       " 0.9937999844551086,\n",
       " 0.9941999912261963,\n",
       " 0.993399977684021,\n",
       " 0.9941999912261963,\n",
       " 0.9950000047683716,\n",
       " 0.9944000244140625,\n",
       " 0.9944000244140625,\n",
       " 0.9940000176429749,\n",
       " 0.9950000047683716,\n",
       " 0.9955999851226807,\n",
       " 0.9944000244140625,\n",
       " 0.9936000108718872,\n",
       " 0.9929999709129333,\n",
       " 0.9954000115394592,\n",
       " 0.995199978351593,\n",
       " 0.9941999912261963,\n",
       " 0.9941999912261963,\n",
       " 0.9950000047683716,\n",
       " 0.995199978351593,\n",
       " 0.9932000041007996,\n",
       " 0.9940000176429749,\n",
       " 0.9945999979972839,\n",
       " 0.9936000108718872,\n",
       " 0.993399977684021,\n",
       " 0.9945999979972839,\n",
       " 0.9941999912261963,\n",
       " 0.9936000108718872,\n",
       " 0.9950000047683716,\n",
       " 0.9936000108718872,\n",
       " 0.9944000244140625,\n",
       " 0.9936000108718872,\n",
       " 0.9936000108718872,\n",
       " 0.9944000244140625,\n",
       " 0.9940000176429749,\n",
       " 0.9941999912261963,\n",
       " 0.9940000176429749,\n",
       " 0.9947999715805054,\n",
       " 0.995199978351593,\n",
       " 0.9947999715805054,\n",
       " 0.9940000176429749,\n",
       " 0.9944000244140625,\n",
       " 0.9941999912261963,\n",
       " 0.9945999979972839,\n",
       " 0.9940000176429749,\n",
       " 0.9940000176429749,\n",
       " 0.9947999715805054,\n",
       " 0.9940000176429749,\n",
       " 0.993399977684021,\n",
       " 0.9940000176429749,\n",
       " 0.9941999912261963,\n",
       " 0.995199978351593,\n",
       " 0.9932000041007996,\n",
       " 0.9941999912261963,\n",
       " 0.9947999715805054,\n",
       " 0.9944000244140625]"
      ]
     },
     "execution_count": 19,
     "metadata": {},
     "output_type": "execute_result"
    }
   ],
   "source": [
    "val_accuracy = history.history['val_accuracy']\n",
    "val_accuracy"
   ]
  },
  {
   "cell_type": "code",
   "execution_count": 20,
   "id": "ed41dcee",
   "metadata": {},
   "outputs": [],
   "source": [
    "epochs = range(1, len(accuracy) + 1)\n"
   ]
  },
  {
   "cell_type": "code",
   "execution_count": 21,
   "id": "121ed737",
   "metadata": {},
   "outputs": [
    {
     "data": {
      "image/png": "[encoded data removed]",
      "text/plain": [
       "<Figure size 640x480 with 1 Axes>"
      ]
     },
     "metadata": {},
     "output_type": "display_data"
    }
   ],
   "source": [
    "sns.lineplot(epochs, accuracy, label='Training acc')\n",
    "sns.lineplot(epochs, val_accuracy, label='Validation acc')\n",
    "plt.title('Training and validation accuracy')\n",
    "plt.xlabel('Epochs')\n",
    "plt.ylabel('Accuracy')\n",
    "plt.legend()\n",
    "plt.show()\n",
    "\n"
   ]
  },
  {
   "cell_type": "markdown",
   "id": "e01ad2e9",
   "metadata": {},
   "source": [
    "-  The training accuracy is represented by blue line and the validation accuracy is represented by a orange line.\n",
    "-  We can see that the training and validation accuracy both increase over the epochs, and the validation accuracy is slightly lower than the training accuracy. \n",
    "-  This is a good indication that the model is learning from the training data and generalizing well to new data."
   ]
  },
  {
   "cell_type": "code",
   "execution_count": 22,
   "id": "bd2ee772",
   "metadata": {
    "collapsed": true
   },
   "outputs": [
    {
     "data": {
      "text/plain": [
       "[0.2935976982116699,\n",
       " 0.07182973623275757,\n",
       " 0.05169414356350899,\n",
       " 0.04177824780344963,\n",
       " 0.03631073608994484,\n",
       " 0.030695954337716103,\n",
       " 0.027463719248771667,\n",
       " 0.025552621111273766,\n",
       " 0.022046782076358795,\n",
       " 0.021142851561307907,\n",
       " 0.018501875922083855,\n",
       " 0.01605362631380558,\n",
       " 0.016644852235913277,\n",
       " 0.016425546258687973,\n",
       " 0.014308137819170952,\n",
       " 0.014291406609117985,\n",
       " 0.012976816855370998,\n",
       " 0.01005373802036047,\n",
       " 0.011992424726486206,\n",
       " 0.012376672588288784,\n",
       " 0.009057271294295788,\n",
       " 0.010589093901216984,\n",
       " 0.008895371109247208,\n",
       " 0.010630771517753601,\n",
       " 0.008880002424120903,\n",
       " 0.009025733917951584,\n",
       " 0.011200778186321259,\n",
       " 0.007628737948834896,\n",
       " 0.006735046859830618,\n",
       " 0.005996694788336754,\n",
       " 0.00881172250956297,\n",
       " 0.00773406820371747,\n",
       " 0.00788791012018919,\n",
       " 0.0072338515892624855,\n",
       " 0.007203316781669855,\n",
       " 0.005097332410514355,\n",
       " 0.007712290156632662,\n",
       " 0.0066315955482423306,\n",
       " 0.005699801724404097,\n",
       " 0.007147197145968676,\n",
       " 0.006278681568801403,\n",
       " 0.005345459096133709,\n",
       " 0.006139739882200956,\n",
       " 0.00791904702782631,\n",
       " 0.005973479710519314,\n",
       " 0.005159257911145687,\n",
       " 0.004920073784887791,\n",
       " 0.005460152868181467,\n",
       " 0.0036595542915165424,\n",
       " 0.0065614585764706135,\n",
       " 0.004210534505546093,\n",
       " 0.0051648435182869434,\n",
       " 0.006660163402557373,\n",
       " 0.007227826397866011,\n",
       " 0.0033723218366503716,\n",
       " 0.005537038203328848,\n",
       " 0.005370761267840862,\n",
       " 0.0050520868971943855,\n",
       " 0.004878628998994827,\n",
       " 0.004006509203463793,\n",
       " 0.005012598354369402,\n",
       " 0.004656677599996328,\n",
       " 0.004613848868757486,\n",
       " 0.004670704714953899,\n",
       " 0.003133633406832814,\n",
       " 0.004954101517796516,\n",
       " 0.005752501543611288,\n",
       " 0.0043752905912697315,\n",
       " 0.004946513567119837,\n",
       " 0.0037914863787591457,\n",
       " 0.005766827613115311,\n",
       " 0.004100959748029709,\n",
       " 0.004144876264035702,\n",
       " 0.004372089169919491,\n",
       " 0.004055318888276815,\n",
       " 0.004191174171864986,\n",
       " 0.005553040187805891,\n",
       " 0.00416146032512188,\n",
       " 0.002324153436347842,\n",
       " 0.005238601937890053,\n",
       " 0.0042860014364123344,\n",
       " 0.003433523466810584,\n",
       " 0.004086650907993317,\n",
       " 0.005193604622036219,\n",
       " 0.004222473595291376,\n",
       " 0.00415555015206337,\n",
       " 0.003323132637888193,\n",
       " 0.0036593058612197638,\n",
       " 0.004546475596725941,\n",
       " 0.0029648824129253626,\n",
       " 0.005445560440421104,\n",
       " 0.002475228626281023,\n",
       " 0.004868543706834316,\n",
       " 0.0037782893050462008,\n",
       " 0.004329068586230278,\n",
       " 0.00357958790846169,\n",
       " 0.00462685339152813,\n",
       " 0.002704094396904111,\n",
       " 0.0037466397043317556,\n",
       " 0.00550571084022522]"
      ]
     },
     "execution_count": 22,
     "metadata": {},
     "output_type": "execute_result"
    }
   ],
   "source": [
    "loss = history.history['loss']\n",
    "loss"
   ]
  },
  {
   "cell_type": "code",
   "execution_count": 23,
   "id": "f175f445",
   "metadata": {
    "collapsed": true
   },
   "outputs": [
    {
     "data": {
      "text/plain": [
       "[0.06145187467336655,\n",
       " 0.04172752425074577,\n",
       " 0.038861993700265884,\n",
       " 0.03993043676018715,\n",
       " 0.030684631317853928,\n",
       " 0.025911057367920876,\n",
       " 0.031804002821445465,\n",
       " 0.02758120745420456,\n",
       " 0.028922131285071373,\n",
       " 0.0301104374229908,\n",
       " 0.02978270873427391,\n",
       " 0.02954326570034027,\n",
       " 0.0233622957020998,\n",
       " 0.021450158208608627,\n",
       " 0.027134975418448448,\n",
       " 0.02593611180782318,\n",
       " 0.02293369546532631,\n",
       " 0.02713708207011223,\n",
       " 0.02806808240711689,\n",
       " 0.02994801104068756,\n",
       " 0.027280820533633232,\n",
       " 0.03119100257754326,\n",
       " 0.029904430732131004,\n",
       " 0.027805328369140625,\n",
       " 0.03545244783163071,\n",
       " 0.023229075595736504,\n",
       " 0.030156763270497322,\n",
       " 0.026996269822120667,\n",
       " 0.029787786304950714,\n",
       " 0.035450518131256104,\n",
       " 0.028768248856067657,\n",
       " 0.031673792749643326,\n",
       " 0.03309706598520279,\n",
       " 0.03551243245601654,\n",
       " 0.028797470033168793,\n",
       " 0.039745036512613297,\n",
       " 0.042044539004564285,\n",
       " 0.03551787883043289,\n",
       " 0.053138166666030884,\n",
       " 0.036646876484155655,\n",
       " 0.04574589803814888,\n",
       " 0.049599044024944305,\n",
       " 0.03932753950357437,\n",
       " 0.03754002973437309,\n",
       " 0.042757488787174225,\n",
       " 0.039725497364997864,\n",
       " 0.0370720736682415,\n",
       " 0.03222804144024849,\n",
       " 0.03566889092326164,\n",
       " 0.03400234505534172,\n",
       " 0.0398503877222538,\n",
       " 0.02906734310090542,\n",
       " 0.03834286704659462,\n",
       " 0.03762326389551163,\n",
       " 0.037151023745536804,\n",
       " 0.03996168449521065,\n",
       " 0.04353933408856392,\n",
       " 0.03638295829296112,\n",
       " 0.03153962269425392,\n",
       " 0.043259087949991226,\n",
       " 0.03122691623866558,\n",
       " 0.036182425916194916,\n",
       " 0.039315950125455856,\n",
       " 0.036957696080207825,\n",
       " 0.038160938769578934,\n",
       " 0.037179332226514816,\n",
       " 0.032346103340387344,\n",
       " 0.03575528413057327,\n",
       " 0.03977352753281593,\n",
       " 0.03861672058701515,\n",
       " 0.04178760200738907,\n",
       " 0.04598470404744148,\n",
       " 0.03667101636528969,\n",
       " 0.045339830219745636,\n",
       " 0.036537546664476395,\n",
       " 0.03768877312541008,\n",
       " 0.043590616434812546,\n",
       " 0.03477949649095535,\n",
       " 0.04138527065515518,\n",
       " 0.03901401534676552,\n",
       " 0.04809165373444557,\n",
       " 0.04774029925465584,\n",
       " 0.039108097553253174,\n",
       " 0.03919526934623718,\n",
       " 0.047639813274145126,\n",
       " 0.0365450456738472,\n",
       " 0.051063887774944305,\n",
       " 0.03899378702044487,\n",
       " 0.04132884368300438,\n",
       " 0.055605676025152206,\n",
       " 0.04046047478914261,\n",
       " 0.06408679485321045,\n",
       " 0.04999411106109619,\n",
       " 0.05028962343931198,\n",
       " 0.03049205057322979,\n",
       " 0.044476594775915146,\n",
       " 0.05318812280893326,\n",
       " 0.04734232276678085,\n",
       " 0.04794551059603691,\n",
       " 0.04429185017943382]"
      ]
     },
     "execution_count": 23,
     "metadata": {},
     "output_type": "execute_result"
    }
   ],
   "source": [
    "val_loss = history.history['val_loss']\n",
    "val_loss"
   ]
  },
  {
   "cell_type": "code",
   "execution_count": 24,
   "id": "7420fa63",
   "metadata": {
    "scrolled": true
   },
   "outputs": [
    {
     "data": {
      "image/png": "[encoded data removed]",
      "text/plain": [
       "<Figure size 640x480 with 1 Axes>"
      ]
     },
     "metadata": {},
     "output_type": "display_data"
    }
   ],
   "source": [
    "sns.lineplot(epochs, loss, label='Training loss')\n",
    "sns.lineplot(epochs, val_loss, label='Validation loss')\n",
    "plt.title('Training and validation loss')\n",
    "plt.xlabel('Epochs')\n",
    "plt.ylabel('Loss')\n",
    "plt.legend()\n",
    "plt.show()"
   ]
  },
  {
   "cell_type": "markdown",
   "id": "da966aee",
   "metadata": {},
   "source": [
    "-  We can see that the training loss decreases continuously over the epochs, indicating that the model is learning from the training data. \n",
    "-  The validation loss decreases initially and then levels off, indicating that the model is not overfitting and generalizing well to new data."
   ]
  },
  {
   "cell_type": "markdown",
   "id": "182470bf",
   "metadata": {},
   "source": [
    "#### Evaluation"
   ]
  },
  {
   "cell_type": "code",
   "execution_count": 25,
   "id": "c1a2c3f3",
   "metadata": {},
   "outputs": [
    {
     "name": "stdout",
     "output_type": "stream",
     "text": [
      "313/313 [==============================] - 4s 13ms/step\n"
     ]
    },
    {
     "data": {
      "text/plain": [
       "array([[3.23781433e-33, 6.31802662e-22, 5.09903856e-21, ...,\n",
       "        1.00000000e+00, 6.66991381e-28, 7.81041665e-22],\n",
       "       [2.57555926e-32, 3.83860433e-21, 1.00000000e+00, ...,\n",
       "        3.04170070e-27, 2.25669025e-24, 1.77340854e-36],\n",
       "       [8.39116570e-20, 1.00000000e+00, 9.19251295e-19, ...,\n",
       "        2.79765288e-17, 1.04349413e-17, 1.28448927e-25],\n",
       "       ...,\n",
       "       [4.15756694e-31, 3.04507089e-25, 3.93673974e-24, ...,\n",
       "        3.59491803e-24, 2.70225338e-25, 1.36470044e-17],\n",
       "       [6.48926158e-28, 0.00000000e+00, 1.11696884e-30, ...,\n",
       "        2.18832060e-30, 3.70278450e-24, 1.02476324e-19],\n",
       "       [4.27745044e-31, 1.68308781e-37, 2.21489527e-28, ...,\n",
       "        0.00000000e+00, 1.52980672e-28, 2.07945321e-38]], dtype=float32)"
      ]
     },
     "execution_count": 25,
     "metadata": {},
     "output_type": "execute_result"
    }
   ],
   "source": [
    "y_hat=model.predict(x_test)\n",
    "y_hat"
   ]
  },
  {
   "cell_type": "code",
   "execution_count": 26,
   "id": "b05626a7",
   "metadata": {},
   "outputs": [
    {
     "name": "stdout",
     "output_type": "stream",
     "text": [
      "313/313 [==============================] - 4s 13ms/step - loss: 0.0381 - accuracy: 0.9944\n"
     ]
    }
   ],
   "source": [
    "# Evaluate the model on the test set\n",
    "score=model.evaluate(x_test,y_test)\n",
    "cnn_acc = 100*score[1]\n"
   ]
  },
  {
   "cell_type": "code",
   "execution_count": 27,
   "id": "ee000cce",
   "metadata": {},
   "outputs": [
    {
     "name": "stdout",
     "output_type": "stream",
     "text": [
      "Test accuracy: 99.4400%\n"
     ]
    }
   ],
   "source": [
    "# print test accuracy\n",
    "print('Test accuracy: %.4f%%' % cnn_acc)"
   ]
  },
  {
   "cell_type": "code",
   "execution_count": 28,
   "id": "aa6ba11c",
   "metadata": {},
   "outputs": [],
   "source": [
    "# every no. these are the actual labels in the dataset\n",
    "\n",
    "mnist_labels = ['0', '1', '2', '3', '4', '5', '6', '7', '8', '9']\n"
   ]
  },
  {
   "cell_type": "code",
   "execution_count": 29,
   "id": "354acb5f",
   "metadata": {},
   "outputs": [
    {
     "data": {
      "image/png": "[encoded data removed]",
      "text/plain": [
       "<Figure size 2000x800 with 32 Axes>"
      ]
     },
     "metadata": {},
     "output_type": "display_data"
    }
   ],
   "source": [
    "# plot a random sample of test images, their predicted labels, and ground truth\n",
    "fig = plt.figure(figsize=(20, 8))\n",
    "for i, idx in enumerate(np.random.choice(x_test.shape[0], size=32, replace=False)):\n",
    "    ax=fig.add_subplot(4, 8, i + 1, xticks=[], yticks=[])\n",
    "    ax.imshow(np.squeeze(x_test[idx]))\n",
    "    pred_idx = np.argmax(y_hat[idx])\n",
    "    true_idx = np.argmax(y_test[idx])\n",
    "    ax.set_title(\"{} ({})\".format(mnist_labels[pred_idx], mnist_labels[true_idx]),\n",
    "                 color=(\"blue\" if pred_idx == true_idx else \"red\"))\n"
   ]
  },
  {
   "cell_type": "markdown",
   "id": "e3ca0a61",
   "metadata": {},
   "source": [
    "# ANN"
   ]
  },
  {
   "cell_type": "code",
   "execution_count": 30,
   "id": "ce948176",
   "metadata": {},
   "outputs": [],
   "source": [
    "# Define the model architecture\n",
    "# setting up the layers of the Neural  Network\n",
    "\n",
    "model_ann = keras.Sequential([\n",
    "                          keras.layers.Flatten(input_shape=(28,28)),\n",
    "                          keras.layers.Dense(50, activation='relu'),\n",
    "                          keras.layers.Dense(50, activation='relu'),\n",
    "                          keras.layers.Dense(10, activation='sigmoid')])"
   ]
  },
  {
   "cell_type": "code",
   "execution_count": 31,
   "id": "335f146a",
   "metadata": {},
   "outputs": [],
   "source": [
    "# Compile the model\n",
    "model_ann.compile(optimizer='adam',\n",
    "              loss='categorical_crossentropy',\n",
    "              metrics=['accuracy'])\n"
   ]
  },
  {
   "cell_type": "code",
   "execution_count": 32,
   "id": "466b9eb6",
   "metadata": {},
   "outputs": [
    {
     "name": "stdout",
     "output_type": "stream",
     "text": [
      "Epoch 1/10\n",
      "1719/1719 [==============================] - 59s 34ms/step - loss: 0.0179 - accuracy: 0.9957\n",
      "Epoch 2/10\n",
      "1719/1719 [==============================] - 58s 34ms/step - loss: 0.0095 - accuracy: 0.9973\n",
      "Epoch 3/10\n",
      "1719/1719 [==============================] - 58s 34ms/step - loss: 0.0113 - accuracy: 0.9973\n",
      "Epoch 4/10\n",
      "1719/1719 [==============================] - 58s 34ms/step - loss: 0.0123 - accuracy: 0.9968\n",
      "Epoch 5/10\n",
      "1719/1719 [==============================] - 59s 34ms/step - loss: 0.0116 - accuracy: 0.9971\n",
      "Epoch 6/10\n",
      "1719/1719 [==============================] - 58s 34ms/step - loss: 0.0115 - accuracy: 0.9972\n",
      "Epoch 7/10\n",
      "1719/1719 [==============================] - 58s 34ms/step - loss: 0.0135 - accuracy: 0.9967\n",
      "Epoch 8/10\n",
      "1719/1719 [==============================] - 59s 34ms/step - loss: 0.0114 - accuracy: 0.9973\n",
      "Epoch 9/10\n",
      "1719/1719 [==============================] - 58s 34ms/step - loss: 0.0117 - accuracy: 0.9971\n",
      "Epoch 10/10\n",
      "1719/1719 [==============================] - 59s 34ms/step - loss: 0.0122 - accuracy: 0.9971\n"
     ]
    }
   ],
   "source": [
    "# Train the model\n",
    "history_ann = model.fit(x_train, y_train, epochs=10)\n"
   ]
  },
  {
   "cell_type": "code",
   "execution_count": 33,
   "id": "3a9979ec",
   "metadata": {},
   "outputs": [
    {
     "name": "stdout",
     "output_type": "stream",
     "text": [
      "313/313 [==============================] - 1s 1ms/step - loss: 2.3356 - accuracy: 0.0884\n",
      "Test accuracy: 99.4400%\n"
     ]
    }
   ],
   "source": [
    "ann_acc = model_ann.evaluate(x_test, y_test)\n",
    "ann_acc = 100*score[1]\n",
    "\n",
    "print('Test accuracy: %.4f%%' % ann_acc)"
   ]
  },
  {
   "cell_type": "code",
   "execution_count": 34,
   "id": "74288c55",
   "metadata": {},
   "outputs": [
    {
     "name": "stdout",
     "output_type": "stream",
     "text": [
      "(10000, 28, 28, 1)\n"
     ]
    }
   ],
   "source": [
    "print(x_test.shape)"
   ]
  },
  {
   "cell_type": "code",
   "execution_count": 35,
   "id": "f2848973",
   "metadata": {},
   "outputs": [
    {
     "data": {
      "image/png": "[encoded data removed]",
      "text/plain": [
       "<Figure size 640x480 with 1 Axes>"
      ]
     },
     "metadata": {},
     "output_type": "display_data"
    }
   ],
   "source": [
    "# first data point in X_test\n",
    "plt.imshow(x_test[0])\n",
    "plt.show()"
   ]
  },
  {
   "cell_type": "code",
   "execution_count": 36,
   "id": "52a4e0df",
   "metadata": {},
   "outputs": [
    {
     "name": "stdout",
     "output_type": "stream",
     "text": [
      "313/313 [==============================] - 5s 16ms/step\n",
      "[1.0236287e-37 5.6748022e-20 4.7352612e-18 2.5021953e-21 3.7731525e-16\n",
      " 1.6535510e-24 0.0000000e+00 1.0000000e+00 1.9228292e-29 9.5773841e-20]\n"
     ]
    }
   ],
   "source": [
    "Y_pred = model.predict(x_test)\n",
    "print(Y_pred[0])"
   ]
  },
  {
   "cell_type": "code",
   "execution_count": 37,
   "id": "e7de7f9a",
   "metadata": {},
   "outputs": [
    {
     "name": "stdout",
     "output_type": "stream",
     "text": [
      "7\n"
     ]
    }
   ],
   "source": [
    "# converting the prediction probabilities to class label\n",
    "\n",
    "label_for_first_test_image = np.argmax(Y_pred[0])\n",
    "print(label_for_first_test_image)"
   ]
  },
  {
   "cell_type": "markdown",
   "id": "f908346e",
   "metadata": {},
   "source": [
    "### Trying with oter ML Models"
   ]
  },
  {
   "cell_type": "markdown",
   "id": "eed5d6a5",
   "metadata": {},
   "source": [
    "#### Data preprocessing for modelling"
   ]
  },
  {
   "cell_type": "code",
   "execution_count": 38,
   "id": "e1dca00a",
   "metadata": {},
   "outputs": [],
   "source": [
    "(x_train,y_train),(x_test,y_test)=mnist.load_data()"
   ]
  },
  {
   "cell_type": "code",
   "execution_count": 39,
   "id": "aba96743",
   "metadata": {},
   "outputs": [
    {
     "name": "stdout",
     "output_type": "stream",
     "text": [
      "Training dataset shape: (60000, 28, 28)\n",
      "Test dataset shape: (10000, 28, 28)\n",
      "(60000, 28, 28) (60000,) (10000, 28, 28) (10000,)\n"
     ]
    }
   ],
   "source": [
    "print(\"Training dataset shape:\", x_train.shape)\n",
    "print(\"Test dataset shape:\", x_test.shape)\n",
    "print(x_train.shape,y_train.shape,x_test.shape,y_test.shape)"
   ]
  },
  {
   "cell_type": "code",
   "execution_count": 40,
   "id": "9ee00325",
   "metadata": {},
   "outputs": [
    {
     "name": "stdout",
     "output_type": "stream",
     "text": [
      "(60000, 28, 28)\n",
      "(10000, 28, 28)\n",
      "(60000,)\n",
      "(10000,)\n"
     ]
    }
   ],
   "source": [
    "print(x_train.shape)\n",
    "print(x_test.shape)\n",
    "print(y_train.shape)\n",
    "print(y_test.shape)"
   ]
  },
  {
   "cell_type": "code",
   "execution_count": 41,
   "id": "0793bc8c",
   "metadata": {},
   "outputs": [],
   "source": [
    "# Reshape input data \n",
    "x_train = x_train.reshape(x_train.shape[0], -1)\n",
    "x_test = x_test.reshape(x_test.shape[0], -1)\n"
   ]
  },
  {
   "cell_type": "markdown",
   "id": "9de07cec",
   "metadata": {},
   "source": [
    "### scaling"
   ]
  },
  {
   "cell_type": "code",
   "execution_count": 42,
   "id": "46ea4175",
   "metadata": {},
   "outputs": [
    {
     "data": {
      "text/plain": [
       "(60000, 784)"
      ]
     },
     "execution_count": 42,
     "metadata": {},
     "output_type": "execute_result"
    }
   ],
   "source": [
    "from sklearn.preprocessing import StandardScaler\n",
    "scaler=StandardScaler()\n",
    "scaler.fit(x_train,y_train)\n",
    "x_train=scaler.transform(x_train)\n",
    "x_train.shape"
   ]
  },
  {
   "cell_type": "markdown",
   "id": "ceae6493",
   "metadata": {},
   "source": [
    "## KNN"
   ]
  },
  {
   "cell_type": "code",
   "execution_count": 43,
   "id": "d0f76e72",
   "metadata": {},
   "outputs": [],
   "source": [
    "# create a list to store the error values for each k\n",
    "error_rate = []\n",
    "\n",
    "# Will take some time\n",
    "for i in range(1,11):\n",
    "    knn = KNeighborsClassifier(n_neighbors=i)\n",
    "    knn.fit(x_train,y_train)\n",
    "    pred_i = knn.predict(x_test)\n",
    "    error_rate.append(np.mean(pred_i != y_test))"
   ]
  },
  {
   "cell_type": "code",
   "execution_count": 44,
   "id": "5ddcb6d2",
   "metadata": {},
   "outputs": [
    {
     "data": {
      "text/plain": [
       "[0.2553, 0.2649, 0.2301, 0.2152, 0.1957, 0.1975, 0.1871, 0.1864, 0.18, 0.1796]"
      ]
     },
     "execution_count": 44,
     "metadata": {},
     "output_type": "execute_result"
    }
   ],
   "source": [
    "error_rate"
   ]
  },
  {
   "cell_type": "code",
   "execution_count": 45,
   "id": "73a9d4b1",
   "metadata": {},
   "outputs": [
    {
     "data": {
      "image/png": "[encoded data removed]",
      "text/plain": [
       "<Figure size 1000x600 with 1 Axes>"
      ]
     },
     "metadata": {},
     "output_type": "display_data"
    }
   ],
   "source": [
    "# Lets plot the k-value and error rate\n",
    "\n",
    "plt.figure(figsize=(10,6))\n",
    "plt.plot(range(1,11),error_rate,color='blue', linestyle='dashed', \n",
    "         marker='o',markerfacecolor='red', markersize=10)\n",
    "plt.title('Error Rate vs. K Value')\n",
    "plt.xlabel('K')\n",
    "plt.ylabel('Error Rate')\n",
    "plt.show()"
   ]
  },
  {
   "cell_type": "code",
   "execution_count": 46,
   "id": "d02b4f49",
   "metadata": {},
   "outputs": [
    {
     "data": {
      "text/plain": [
       "KNeighborsClassifier()"
      ]
     },
     "execution_count": 46,
     "metadata": {},
     "output_type": "execute_result"
    }
   ],
   "source": [
    "from sklearn.neighbors import KNeighborsClassifier\n",
    "classifier= KNeighborsClassifier(n_neighbors=5)\n",
    "classifier.fit(x_train,y_train)"
   ]
  },
  {
   "cell_type": "code",
   "execution_count": 47,
   "id": "ca7043a9",
   "metadata": {},
   "outputs": [
    {
     "data": {
      "text/plain": [
       "array([7, 2, 1, ..., 4, 5, 6], dtype=uint8)"
      ]
     },
     "execution_count": 47,
     "metadata": {},
     "output_type": "execute_result"
    }
   ],
   "source": [
    "y_pred=classifier.predict(x_test)\n",
    "y_pred"
   ]
  },
  {
   "cell_type": "code",
   "execution_count": 48,
   "id": "0af61d77",
   "metadata": {},
   "outputs": [
    {
     "name": "stdout",
     "output_type": "stream",
     "text": [
      "0.8043\n"
     ]
    }
   ],
   "source": [
    "print(accuracy_score(y_test,y_pred))\n"
   ]
  },
  {
   "cell_type": "code",
   "execution_count": 49,
   "id": "56b3a2e7",
   "metadata": {},
   "outputs": [
    {
     "data": {
      "text/plain": [
       "array([7, 2, 1, ..., 4, 5, 6], dtype=uint8)"
      ]
     },
     "execution_count": 49,
     "metadata": {},
     "output_type": "execute_result"
    }
   ],
   "source": [
    "classifier= KNeighborsClassifier(n_neighbors=7)\n",
    "classifier.fit(x_train,y_train)\n",
    "y_pred_7=classifier.predict(x_test)\n",
    "y_pred_7"
   ]
  },
  {
   "cell_type": "code",
   "execution_count": 58,
   "id": "8418bbe3",
   "metadata": {},
   "outputs": [
    {
     "data": {
      "text/plain": [
       "0.8129"
      ]
     },
     "execution_count": 58,
     "metadata": {},
     "output_type": "execute_result"
    }
   ],
   "source": [
    "knn_acc=accuracy_score(y_test,y_pred_7)\n",
    "knn_acc"
   ]
  },
  {
   "cell_type": "markdown",
   "id": "fc303005",
   "metadata": {},
   "source": [
    "## SVC"
   ]
  },
  {
   "cell_type": "code",
   "execution_count": 51,
   "id": "489972b4",
   "metadata": {},
   "outputs": [
    {
     "data": {
      "text/plain": [
       "array([7, 2, 8, ..., 4, 8, 6], dtype=uint8)"
      ]
     },
     "execution_count": 51,
     "metadata": {},
     "output_type": "execute_result"
    }
   ],
   "source": [
    "clf=svm.SVC(kernel='linear',C=10,random_state=0)\n",
    "clf.fit(x_train,y_train)\n",
    "y_pred_svm=clf.predict(x_test)\n",
    "y_pred_svm"
   ]
  },
  {
   "cell_type": "code",
   "execution_count": 59,
   "id": "fe49056c",
   "metadata": {},
   "outputs": [
    {
     "data": {
      "text/plain": [
       "0.8205"
      ]
     },
     "execution_count": 59,
     "metadata": {},
     "output_type": "execute_result"
    }
   ],
   "source": [
    "svc_acc=accuracy_score(y_test,y_pred_svm)\n",
    "svc_acc"
   ]
  },
  {
   "cell_type": "code",
   "execution_count": 53,
   "id": "de8e2d38",
   "metadata": {},
   "outputs": [
    {
     "name": "stdout",
     "output_type": "stream",
     "text": [
      "              precision    recall  f1-score   support\n",
      "\n",
      "           0       0.85      0.99      0.91       980\n",
      "           1       0.98      0.78      0.86      1135\n",
      "           2       0.95      0.77      0.85      1032\n",
      "           3       0.76      0.91      0.83      1010\n",
      "           4       0.84      0.92      0.88       982\n",
      "           5       0.98      0.31      0.47       892\n",
      "           6       0.90      0.94      0.92       958\n",
      "           7       0.99      0.78      0.87      1028\n",
      "           8       0.52      0.95      0.68       974\n",
      "           9       0.86      0.81      0.84      1009\n",
      "\n",
      "    accuracy                           0.82     10000\n",
      "   macro avg       0.86      0.82      0.81     10000\n",
      "weighted avg       0.86      0.82      0.82     10000\n",
      "\n"
     ]
    }
   ],
   "source": [
    "print(classification_report(y_test,y_pred_svm))"
   ]
  },
  {
   "cell_type": "markdown",
   "id": "cba6a431",
   "metadata": {},
   "source": [
    "##  LOGISTIC REGRESSION"
   ]
  },
  {
   "cell_type": "code",
   "execution_count": 54,
   "id": "29a8f50e",
   "metadata": {},
   "outputs": [
    {
     "data": {
      "text/plain": [
       "LogisticRegression()"
      ]
     },
     "execution_count": 54,
     "metadata": {},
     "output_type": "execute_result"
    }
   ],
   "source": [
    "log_classifier=LogisticRegression()\n",
    "log_classifier.fit(x_train,y_train)"
   ]
  },
  {
   "cell_type": "code",
   "execution_count": 55,
   "id": "a8577f6e",
   "metadata": {},
   "outputs": [
    {
     "data": {
      "text/plain": [
       "array([7, 2, 1, ..., 4, 8, 6], dtype=uint8)"
      ]
     },
     "execution_count": 55,
     "metadata": {},
     "output_type": "execute_result"
    }
   ],
   "source": [
    "y_pred_log=log_classifier.predict(x_test)\n",
    "y_pred_log"
   ]
  },
  {
   "cell_type": "code",
   "execution_count": 60,
   "id": "355a0457",
   "metadata": {},
   "outputs": [
    {
     "data": {
      "text/plain": [
       "0.8372"
      ]
     },
     "execution_count": 60,
     "metadata": {},
     "output_type": "execute_result"
    }
   ],
   "source": [
    "lr_acc=accuracy_score(y_test,y_pred_log)\n",
    "lr_acc"
   ]
  },
  {
   "cell_type": "code",
   "execution_count": null,
   "id": "d018f2de",
   "metadata": {},
   "outputs": [],
   "source": []
  },
  {
   "cell_type": "markdown",
   "id": "4b6c34e0",
   "metadata": {},
   "source": [
    "## Model Comparision Report"
   ]
  },
  {
   "cell_type": "code",
   "execution_count": 61,
   "id": "b8ab6a7d",
   "metadata": {},
   "outputs": [
    {
     "data": {
      "text/html": [
       "<div>\n",
       "<style scoped>\n",
       "    .dataframe tbody tr th:only-of-type {\n",
       "        vertical-align: middle;\n",
       "    }\n",
       "\n",
       "    .dataframe tbody tr th {\n",
       "        vertical-align: top;\n",
       "    }\n",
       "\n",
       "    .dataframe thead th {\n",
       "        text-align: right;\n",
       "    }\n",
       "</style>\n",
       "<table border=\"1\" class=\"dataframe\">\n",
       "  <thead>\n",
       "    <tr style=\"text-align: right;\">\n",
       "      <th></th>\n",
       "      <th>Accuracy score</th>\n",
       "    </tr>\n",
       "  </thead>\n",
       "  <tbody>\n",
       "    <tr>\n",
       "      <th>CNN</th>\n",
       "      <td>99.440002</td>\n",
       "    </tr>\n",
       "    <tr>\n",
       "      <th>ANN</th>\n",
       "      <td>99.440002</td>\n",
       "    </tr>\n",
       "    <tr>\n",
       "      <th>KNN</th>\n",
       "      <td>0.812900</td>\n",
       "    </tr>\n",
       "    <tr>\n",
       "      <th>SVC</th>\n",
       "      <td>0.820500</td>\n",
       "    </tr>\n",
       "    <tr>\n",
       "      <th>Logistic Regression</th>\n",
       "      <td>0.837200</td>\n",
       "    </tr>\n",
       "  </tbody>\n",
       "</table>\n",
       "</div>"
      ],
      "text/plain": [
       "                     Accuracy score\n",
       "CNN                       99.440002\n",
       "ANN                       99.440002\n",
       "KNN                        0.812900\n",
       "SVC                        0.820500\n",
       "Logistic Regression        0.837200"
      ]
     },
     "execution_count": 61,
     "metadata": {},
     "output_type": "execute_result"
    }
   ],
   "source": [
    "models=pd.DataFrame({\n",
    "    'Accuracy score' :[cnn_acc,ann_acc,knn_acc,svc_acc,lr_acc]},\n",
    "    index=['CNN','ANN','KNN','SVC','Logistic Regression'])\n",
    "\n",
    "models"
   ]
  },
  {
   "cell_type": "code",
   "execution_count": null,
   "id": "53b2d287",
   "metadata": {},
   "outputs": [],
   "source": []
  }
 ],
 "metadata": {
  "kernelspec": {
   "display_name": "Python 3 (ipykernel)",
   "language": "python",
   "name": "python3"
  },
  "language_info": {
   "codemirror_mode": {
    "name": "ipython",
    "version": 3
   },
   "file_extension": ".py",
   "mimetype": "text/x-python",
   "name": "python",
   "nbconvert_exporter": "python",
   "pygments_lexer": "ipython3",
   "version": "3.9.13"
  }
 },
 "nbformat": 4,
 "nbformat_minor": 5
}
